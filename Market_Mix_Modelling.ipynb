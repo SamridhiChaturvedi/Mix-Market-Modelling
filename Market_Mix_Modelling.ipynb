{
 "cells": [
  {
   "cell_type": "markdown",
   "id": "f48240df",
   "metadata": {},
   "source": [
    "### <center> INTRODUCTION"
   ]
  },
  {
   "cell_type": "markdown",
   "id": "288f429b",
   "metadata": {},
   "source": [
    "<div class=\"alert alert-block alert-info\">\n",
    "<span style=\"font-family:Comic Sans\">\n",
    "According to Wikipedia, Marketing mix modeling (MMM) is a statistical analysis such as multivariate regressions on sales and marketing time series data to estimate the impact of various marketing tactics (marketing mix) on sales and then forecast the impact of future sets of tactics.\n",
    "\n",
    "The key purpose: By estimating the effectiveness of different marketing channels activities, MMM helps to better understand how various marketing activities are driving the business metrics of a product and increase ROI.\n",
    "    \n",
    "MMM model is often used to optimize the advertising expenditure for the next quarter or year. It enables the CMO and financial team make spending and allocation decisions. And also make investment decisions in terms of incremental spending."
   ]
  },
  {
   "cell_type": "markdown",
   "id": "7cc54fa4",
   "metadata": {},
   "source": [
    "<div class=\"alert alert-block alert-info\">\n",
    "\n",
    "<span style=\"font-family:Comic Sans\"> \n",
    "Common Data Types for MMM\n",
    "<ol>\n",
    "<li>Base Variables:\n",
    "    <ul>\n",
    "<li>Seasonality: For example, sales during the Christmas season are generally high than average sales.</li>\n",
    "<li>Macroeconomic Data: CCI, inflation, unemployment rate, GDP, etc.</li>\n",
    "<li>Product Sales Price: base price, Avg. sales price</li>\n",
    "<li>Distribution: No. of stores or No. of locations the product is available. The distribution chain can impact business outcomes. For example, the stock product may cause sales to decrease.</li></ul>\n",
    "<li>Incremental Variables:\n",
    "<ul><li>Advertising data: TV / Radio/ NewsPpapers / Magzines / Search/ Display / Social Media / sponsorship / Affiliation / Content Marketing etc.</li>\n",
    "<li>Promotion data: No. of offers/days for which offers are provided. e.g. a price promotion like free delivery, 0% APR or cashback, etc is not supported by any advertisement that would also drive sales.</li></ul>\n",
    "<li>Others:\n",
    "<ul><li>Sales: It is impossible to build a MMM model without the sales variable. is generally considered as a dependent variable in MMM. Sales can be in volume in units as well as revenue.</li>\n",
    "<li> Advertising spends data: Get the spend data from the internal marketing team or through an external marketing agency.\n",
    "</li> "
   ]
  },
  {
   "cell_type": "markdown",
   "id": "bba1a11c",
   "metadata": {},
   "source": [
    "<h3><center>PROBLEM STATEMENT</center></h3>"
   ]
  },
  {
   "cell_type": "markdown",
   "id": "1f27b2c0",
   "metadata": {},
   "source": [
    "<div class=\"alert alert-block alert-info\">\n",
    "\n",
    "\n",
    "ElecKart is an e-commerce firm based out of Ontario, Canada specialising in electronic products. Over the last one year, they had spent a significant amount of money on marketing. Occasionally, they had also offered big-ticket promotions (similar to the Big Billion Day). They are about to create a marketing budget for the next year, which includes spending on commercials, online campaigns, and pricing & promotion strategies. The CFO feels that the money spent over the last 12 months on marketing was not sufficiently impactful, and, that they can either cut on the budget or reallocate it optimally across marketing levers to improve the revenue response.\n",
    "\n",
    "Imagine that you are a part of the marketing team working on budget optimisation. You need to develop a market mix model to observe the actual impact of different marketing variables over the last year. Using your understanding of the model, you have to recommend the optimal budget allocation for different marketing levers for the next year."
   ]
  },
  {
   "cell_type": "code",
   "execution_count": 1,
   "id": "17c3d7d1",
   "metadata": {},
   "outputs": [],
   "source": [
    "#importing the libraries\n",
    "import numpy as np\n",
    "import pandas as pd\n",
    "import matplotlib.pyplot as plt\n",
    "import seaborn as sns\n",
    "from datetime import datetime\n",
    "\n",
    "import warnings\n",
    "warnings.filterwarnings('ignore')"
   ]
  },
  {
   "cell_type": "code",
   "execution_count": 4,
   "id": "aac9bd2c",
   "metadata": {},
   "outputs": [
    {
     "data": {
      "text/html": [
       "<div>\n",
       "<style scoped>\n",
       "    .dataframe tbody tr th:only-of-type {\n",
       "        vertical-align: middle;\n",
       "    }\n",
       "\n",
       "    .dataframe tbody tr th {\n",
       "        vertical-align: top;\n",
       "    }\n",
       "\n",
       "    .dataframe thead th {\n",
       "        text-align: right;\n",
       "    }\n",
       "</style>\n",
       "<table border=\"1\" class=\"dataframe\">\n",
       "  <thead>\n",
       "    <tr style=\"text-align: right;\">\n",
       "      <th></th>\n",
       "      <th>fsn_id</th>\n",
       "      <th>order_date</th>\n",
       "      <th>Year</th>\n",
       "      <th>Month</th>\n",
       "      <th>order_id</th>\n",
       "      <th>order_item_id</th>\n",
       "      <th>gmv</th>\n",
       "      <th>units</th>\n",
       "      <th>deliverybdays</th>\n",
       "      <th>deliverycdays</th>\n",
       "      <th>s1_fact.order_payment_type</th>\n",
       "      <th>sla</th>\n",
       "      <th>cust_id</th>\n",
       "      <th>pincode</th>\n",
       "      <th>product_analytic_super_category</th>\n",
       "      <th>product_analytic_category</th>\n",
       "      <th>product_analytic_sub_category</th>\n",
       "      <th>product_analytic_vertical</th>\n",
       "      <th>product_mrp</th>\n",
       "      <th>product_procurement_sla</th>\n",
       "    </tr>\n",
       "  </thead>\n",
       "  <tbody>\n",
       "    <tr>\n",
       "      <th>0</th>\n",
       "      <td>ACCCX3S58G7B5F6P</td>\n",
       "      <td>2015-10-17 15:11:54</td>\n",
       "      <td>2015</td>\n",
       "      <td>10</td>\n",
       "      <td>3.419301e+15</td>\n",
       "      <td>3.419301e+15</td>\n",
       "      <td>6400</td>\n",
       "      <td>1</td>\n",
       "      <td>\\N</td>\n",
       "      <td>\\N</td>\n",
       "      <td>COD</td>\n",
       "      <td>5</td>\n",
       "      <td>-1.01299130778588E+018</td>\n",
       "      <td>-7.79175582905735E+018</td>\n",
       "      <td>CE</td>\n",
       "      <td>CameraAccessory</td>\n",
       "      <td>CameraAccessory</td>\n",
       "      <td>CameraTripod</td>\n",
       "      <td>7190</td>\n",
       "      <td>0</td>\n",
       "    </tr>\n",
       "    <tr>\n",
       "      <th>1</th>\n",
       "      <td>ACCCX3S58G7B5F6P</td>\n",
       "      <td>2015-10-19 10:07:22</td>\n",
       "      <td>2015</td>\n",
       "      <td>10</td>\n",
       "      <td>1.420831e+15</td>\n",
       "      <td>1.420831e+15</td>\n",
       "      <td>6900</td>\n",
       "      <td>1</td>\n",
       "      <td>\\N</td>\n",
       "      <td>\\N</td>\n",
       "      <td>COD</td>\n",
       "      <td>7</td>\n",
       "      <td>-8.99032457905512E+018</td>\n",
       "      <td>7.33541149097431E+018</td>\n",
       "      <td>CE</td>\n",
       "      <td>CameraAccessory</td>\n",
       "      <td>CameraAccessory</td>\n",
       "      <td>CameraTripod</td>\n",
       "      <td>7190</td>\n",
       "      <td>0</td>\n",
       "    </tr>\n",
       "    <tr>\n",
       "      <th>2</th>\n",
       "      <td>ACCCX3S5AHMF55FV</td>\n",
       "      <td>2015-10-20 15:45:56</td>\n",
       "      <td>2015</td>\n",
       "      <td>10</td>\n",
       "      <td>2.421913e+15</td>\n",
       "      <td>2.421913e+15</td>\n",
       "      <td>1990</td>\n",
       "      <td>1</td>\n",
       "      <td>\\N</td>\n",
       "      <td>\\N</td>\n",
       "      <td>COD</td>\n",
       "      <td>10</td>\n",
       "      <td>-1.0404429420466E+018</td>\n",
       "      <td>-7.47768776228657E+018</td>\n",
       "      <td>CE</td>\n",
       "      <td>CameraAccessory</td>\n",
       "      <td>CameraAccessory</td>\n",
       "      <td>CameraTripod</td>\n",
       "      <td>2099</td>\n",
       "      <td>3</td>\n",
       "    </tr>\n",
       "    <tr>\n",
       "      <th>3</th>\n",
       "      <td>ACCCX3S5AHMF55FV</td>\n",
       "      <td>2015-10-14 12:05:15</td>\n",
       "      <td>2015</td>\n",
       "      <td>10</td>\n",
       "      <td>4.416592e+15</td>\n",
       "      <td>4.416592e+15</td>\n",
       "      <td>1690</td>\n",
       "      <td>1</td>\n",
       "      <td>\\N</td>\n",
       "      <td>\\N</td>\n",
       "      <td>Prepaid</td>\n",
       "      <td>4</td>\n",
       "      <td>-7.60496084352714E+018</td>\n",
       "      <td>-5.83593163877661E+018</td>\n",
       "      <td>CE</td>\n",
       "      <td>CameraAccessory</td>\n",
       "      <td>CameraAccessory</td>\n",
       "      <td>CameraTripod</td>\n",
       "      <td>2099</td>\n",
       "      <td>3</td>\n",
       "    </tr>\n",
       "    <tr>\n",
       "      <th>4</th>\n",
       "      <td>ACCCX3S5AHMF55FV</td>\n",
       "      <td>2015-10-17 21:25:03</td>\n",
       "      <td>2015</td>\n",
       "      <td>10</td>\n",
       "      <td>4.419525e+15</td>\n",
       "      <td>4.419525e+15</td>\n",
       "      <td>1618</td>\n",
       "      <td>1</td>\n",
       "      <td>\\N</td>\n",
       "      <td>\\N</td>\n",
       "      <td>Prepaid</td>\n",
       "      <td>6</td>\n",
       "      <td>2.8945572083453E+018</td>\n",
       "      <td>5.34735360997242E+017</td>\n",
       "      <td>CE</td>\n",
       "      <td>CameraAccessory</td>\n",
       "      <td>CameraAccessory</td>\n",
       "      <td>CameraTripod</td>\n",
       "      <td>2099</td>\n",
       "      <td>3</td>\n",
       "    </tr>\n",
       "    <tr>\n",
       "      <th>...</th>\n",
       "      <td>...</td>\n",
       "      <td>...</td>\n",
       "      <td>...</td>\n",
       "      <td>...</td>\n",
       "      <td>...</td>\n",
       "      <td>...</td>\n",
       "      <td>...</td>\n",
       "      <td>...</td>\n",
       "      <td>...</td>\n",
       "      <td>...</td>\n",
       "      <td>...</td>\n",
       "      <td>...</td>\n",
       "      <td>...</td>\n",
       "      <td>...</td>\n",
       "      <td>...</td>\n",
       "      <td>...</td>\n",
       "      <td>...</td>\n",
       "      <td>...</td>\n",
       "      <td>...</td>\n",
       "      <td>...</td>\n",
       "    </tr>\n",
       "    <tr>\n",
       "      <th>1648819</th>\n",
       "      <td>VPLEYAP3ZYYUVESU</td>\n",
       "      <td>2015-09-27 19:20:31</td>\n",
       "      <td>2015</td>\n",
       "      <td>9</td>\n",
       "      <td>4.402170e+15</td>\n",
       "      <td>4.402170e+15</td>\n",
       "      <td>2200</td>\n",
       "      <td>1</td>\n",
       "      <td>\\N</td>\n",
       "      <td>\\N</td>\n",
       "      <td>COD</td>\n",
       "      <td>7</td>\n",
       "      <td>-9.90634340213633E+017</td>\n",
       "      <td>7.89475898877674E+018</td>\n",
       "      <td>CE</td>\n",
       "      <td>EntertainmentSmall</td>\n",
       "      <td>TVVideoSmall</td>\n",
       "      <td>VideoPlayer</td>\n",
       "      <td>2499</td>\n",
       "      <td>2</td>\n",
       "    </tr>\n",
       "    <tr>\n",
       "      <th>1648820</th>\n",
       "      <td>VPLEYAP3ZYYUVESU</td>\n",
       "      <td>2015-09-28 01:32:58</td>\n",
       "      <td>2015</td>\n",
       "      <td>9</td>\n",
       "      <td>1.402393e+15</td>\n",
       "      <td>1.402393e+15</td>\n",
       "      <td>2098</td>\n",
       "      <td>1</td>\n",
       "      <td>\\N</td>\n",
       "      <td>\\N</td>\n",
       "      <td>COD</td>\n",
       "      <td>10</td>\n",
       "      <td>3.04892345453077E+018</td>\n",
       "      <td>-1.45758574108572E+018</td>\n",
       "      <td>CE</td>\n",
       "      <td>EntertainmentSmall</td>\n",
       "      <td>TVVideoSmall</td>\n",
       "      <td>VideoPlayer</td>\n",
       "      <td>2499</td>\n",
       "      <td>2</td>\n",
       "    </tr>\n",
       "    <tr>\n",
       "      <th>1648821</th>\n",
       "      <td>VPLEYAP3ZYYUVESU</td>\n",
       "      <td>2015-09-29 07:07:57</td>\n",
       "      <td>2015</td>\n",
       "      <td>9</td>\n",
       "      <td>4.403460e+15</td>\n",
       "      <td>4.403460e+15</td>\n",
       "      <td>2098</td>\n",
       "      <td>1</td>\n",
       "      <td>\\N</td>\n",
       "      <td>\\N</td>\n",
       "      <td>COD</td>\n",
       "      <td>5</td>\n",
       "      <td>-4.53140379455183E+018</td>\n",
       "      <td>5.74649014721365E+018</td>\n",
       "      <td>CE</td>\n",
       "      <td>EntertainmentSmall</td>\n",
       "      <td>TVVideoSmall</td>\n",
       "      <td>VideoPlayer</td>\n",
       "      <td>2499</td>\n",
       "      <td>2</td>\n",
       "    </tr>\n",
       "    <tr>\n",
       "      <th>1648822</th>\n",
       "      <td>VPLEYAP3ZYYUVESU</td>\n",
       "      <td>2015-09-29 18:15:45</td>\n",
       "      <td>2015</td>\n",
       "      <td>9</td>\n",
       "      <td>4.403860e+15</td>\n",
       "      <td>4.403860e+15</td>\n",
       "      <td>2200</td>\n",
       "      <td>1</td>\n",
       "      <td>\\N</td>\n",
       "      <td>\\N</td>\n",
       "      <td>COD</td>\n",
       "      <td>3</td>\n",
       "      <td>-8.94046418180233E+018</td>\n",
       "      <td>2.57294814079718E+018</td>\n",
       "      <td>CE</td>\n",
       "      <td>EntertainmentSmall</td>\n",
       "      <td>TVVideoSmall</td>\n",
       "      <td>VideoPlayer</td>\n",
       "      <td>2499</td>\n",
       "      <td>2</td>\n",
       "    </tr>\n",
       "    <tr>\n",
       "      <th>1648823</th>\n",
       "      <td>VPLEYAP3ZYYUVESU</td>\n",
       "      <td>2015-09-29 21:31:37</td>\n",
       "      <td>2015</td>\n",
       "      <td>9</td>\n",
       "      <td>4.403971e+15</td>\n",
       "      <td>4.403971e+15</td>\n",
       "      <td>2295</td>\n",
       "      <td>1</td>\n",
       "      <td>\\N</td>\n",
       "      <td>\\N</td>\n",
       "      <td>COD</td>\n",
       "      <td>5</td>\n",
       "      <td>6.0094454082098E+018</td>\n",
       "      <td>4.38373500390134E+017</td>\n",
       "      <td>CE</td>\n",
       "      <td>EntertainmentSmall</td>\n",
       "      <td>TVVideoSmall</td>\n",
       "      <td>VideoPlayer</td>\n",
       "      <td>2499</td>\n",
       "      <td>2</td>\n",
       "    </tr>\n",
       "  </tbody>\n",
       "</table>\n",
       "<p>1648824 rows × 20 columns</p>\n",
       "</div>"
      ],
      "text/plain": [
       "                   fsn_id           order_date  Year  Month      order_id  \\\n",
       "0        ACCCX3S58G7B5F6P  2015-10-17 15:11:54  2015     10  3.419301e+15   \n",
       "1        ACCCX3S58G7B5F6P  2015-10-19 10:07:22  2015     10  1.420831e+15   \n",
       "2        ACCCX3S5AHMF55FV  2015-10-20 15:45:56  2015     10  2.421913e+15   \n",
       "3        ACCCX3S5AHMF55FV  2015-10-14 12:05:15  2015     10  4.416592e+15   \n",
       "4        ACCCX3S5AHMF55FV  2015-10-17 21:25:03  2015     10  4.419525e+15   \n",
       "...                   ...                  ...   ...    ...           ...   \n",
       "1648819  VPLEYAP3ZYYUVESU  2015-09-27 19:20:31  2015      9  4.402170e+15   \n",
       "1648820  VPLEYAP3ZYYUVESU  2015-09-28 01:32:58  2015      9  1.402393e+15   \n",
       "1648821  VPLEYAP3ZYYUVESU  2015-09-29 07:07:57  2015      9  4.403460e+15   \n",
       "1648822  VPLEYAP3ZYYUVESU  2015-09-29 18:15:45  2015      9  4.403860e+15   \n",
       "1648823  VPLEYAP3ZYYUVESU  2015-09-29 21:31:37  2015      9  4.403971e+15   \n",
       "\n",
       "         order_item_id   gmv  units deliverybdays deliverycdays  \\\n",
       "0         3.419301e+15  6400      1            \\N            \\N   \n",
       "1         1.420831e+15  6900      1            \\N            \\N   \n",
       "2         2.421913e+15  1990      1            \\N            \\N   \n",
       "3         4.416592e+15  1690      1            \\N            \\N   \n",
       "4         4.419525e+15  1618      1            \\N            \\N   \n",
       "...                ...   ...    ...           ...           ...   \n",
       "1648819   4.402170e+15  2200      1            \\N            \\N   \n",
       "1648820   1.402393e+15  2098      1            \\N            \\N   \n",
       "1648821   4.403460e+15  2098      1            \\N            \\N   \n",
       "1648822   4.403860e+15  2200      1            \\N            \\N   \n",
       "1648823   4.403971e+15  2295      1            \\N            \\N   \n",
       "\n",
       "        s1_fact.order_payment_type  sla                 cust_id  \\\n",
       "0                              COD    5  -1.01299130778588E+018   \n",
       "1                              COD    7  -8.99032457905512E+018   \n",
       "2                              COD   10   -1.0404429420466E+018   \n",
       "3                          Prepaid    4  -7.60496084352714E+018   \n",
       "4                          Prepaid    6    2.8945572083453E+018   \n",
       "...                            ...  ...                     ...   \n",
       "1648819                        COD    7  -9.90634340213633E+017   \n",
       "1648820                        COD   10   3.04892345453077E+018   \n",
       "1648821                        COD    5  -4.53140379455183E+018   \n",
       "1648822                        COD    3  -8.94046418180233E+018   \n",
       "1648823                        COD    5    6.0094454082098E+018   \n",
       "\n",
       "                        pincode product_analytic_super_category  \\\n",
       "0        -7.79175582905735E+018                              CE   \n",
       "1         7.33541149097431E+018                              CE   \n",
       "2        -7.47768776228657E+018                              CE   \n",
       "3        -5.83593163877661E+018                              CE   \n",
       "4         5.34735360997242E+017                              CE   \n",
       "...                         ...                             ...   \n",
       "1648819   7.89475898877674E+018                              CE   \n",
       "1648820  -1.45758574108572E+018                              CE   \n",
       "1648821   5.74649014721365E+018                              CE   \n",
       "1648822   2.57294814079718E+018                              CE   \n",
       "1648823   4.38373500390134E+017                              CE   \n",
       "\n",
       "        product_analytic_category product_analytic_sub_category  \\\n",
       "0                 CameraAccessory               CameraAccessory   \n",
       "1                 CameraAccessory               CameraAccessory   \n",
       "2                 CameraAccessory               CameraAccessory   \n",
       "3                 CameraAccessory               CameraAccessory   \n",
       "4                 CameraAccessory               CameraAccessory   \n",
       "...                           ...                           ...   \n",
       "1648819        EntertainmentSmall                  TVVideoSmall   \n",
       "1648820        EntertainmentSmall                  TVVideoSmall   \n",
       "1648821        EntertainmentSmall                  TVVideoSmall   \n",
       "1648822        EntertainmentSmall                  TVVideoSmall   \n",
       "1648823        EntertainmentSmall                  TVVideoSmall   \n",
       "\n",
       "        product_analytic_vertical  product_mrp  product_procurement_sla  \n",
       "0                    CameraTripod         7190                        0  \n",
       "1                    CameraTripod         7190                        0  \n",
       "2                    CameraTripod         2099                        3  \n",
       "3                    CameraTripod         2099                        3  \n",
       "4                    CameraTripod         2099                        3  \n",
       "...                           ...          ...                      ...  \n",
       "1648819               VideoPlayer         2499                        2  \n",
       "1648820               VideoPlayer         2499                        2  \n",
       "1648821               VideoPlayer         2499                        2  \n",
       "1648822               VideoPlayer         2499                        2  \n",
       "1648823               VideoPlayer         2499                        2  \n",
       "\n",
       "[1648824 rows x 20 columns]"
      ]
     },
     "execution_count": 4,
     "metadata": {},
     "output_type": "execute_result"
    }
   ],
   "source": [
    "df=pd.read_csv(\"ConsumerElectronics.csv\")\n",
    "df"
   ]
  },
  {
   "cell_type": "code",
   "execution_count": 5,
   "id": "e0e2d39c",
   "metadata": {
    "scrolled": true
   },
   "outputs": [],
   "source": [
    "# Set dispplay option to display max columns\n",
    "pd.set_option(\"display.max_columns\", df.shape[-1]) "
   ]
  },
  {
   "cell_type": "code",
   "execution_count": 6,
   "id": "28d754c4",
   "metadata": {},
   "outputs": [
    {
     "name": "stdout",
     "output_type": "stream",
     "text": [
      "<class 'pandas.core.frame.DataFrame'>\n",
      "RangeIndex: 1648824 entries, 0 to 1648823\n",
      "Data columns (total 20 columns):\n",
      " #   Column                           Non-Null Count    Dtype  \n",
      "---  ------                           --------------    -----  \n",
      " 0   fsn_id                           1648824 non-null  object \n",
      " 1   order_date                       1648824 non-null  object \n",
      " 2   Year                             1648824 non-null  int64  \n",
      " 3   Month                            1648824 non-null  int64  \n",
      " 4   order_id                         1648824 non-null  float64\n",
      " 5   order_item_id                    1648824 non-null  float64\n",
      " 6   gmv                              1648824 non-null  object \n",
      " 7   units                            1648824 non-null  int64  \n",
      " 8   deliverybdays                    1648824 non-null  object \n",
      " 9   deliverycdays                    1648824 non-null  object \n",
      " 10  s1_fact.order_payment_type       1648824 non-null  object \n",
      " 11  sla                              1648824 non-null  int64  \n",
      " 12  cust_id                          1648824 non-null  object \n",
      " 13  pincode                          1648824 non-null  object \n",
      " 14  product_analytic_super_category  1648824 non-null  object \n",
      " 15  product_analytic_category        1648824 non-null  object \n",
      " 16  product_analytic_sub_category    1648824 non-null  object \n",
      " 17  product_analytic_vertical        1648824 non-null  object \n",
      " 18  product_mrp                      1648824 non-null  int64  \n",
      " 19  product_procurement_sla          1648824 non-null  int64  \n",
      "dtypes: float64(2), int64(6), object(12)\n",
      "memory usage: 251.6+ MB\n"
     ]
    }
   ],
   "source": [
    "df.info()"
   ]
  },
  {
   "cell_type": "code",
   "execution_count": 8,
   "id": "0552a4b4",
   "metadata": {},
   "outputs": [
    {
     "data": {
      "text/plain": [
       "fsn_id                             0\n",
       "order_date                         0\n",
       "Year                               0\n",
       "Month                              0\n",
       "order_id                           0\n",
       "order_item_id                      0\n",
       "gmv                                0\n",
       "units                              0\n",
       "deliverybdays                      0\n",
       "deliverycdays                      0\n",
       "s1_fact.order_payment_type         0\n",
       "sla                                0\n",
       "cust_id                            0\n",
       "pincode                            0\n",
       "product_analytic_super_category    0\n",
       "product_analytic_category          0\n",
       "product_analytic_sub_category      0\n",
       "product_analytic_vertical          0\n",
       "product_mrp                        0\n",
       "product_procurement_sla            0\n",
       "dtype: int64"
      ]
     },
     "execution_count": 8,
     "metadata": {},
     "output_type": "execute_result"
    }
   ],
   "source": [
    "df.isnull().sum()"
   ]
  },
  {
   "cell_type": "code",
   "execution_count": 10,
   "id": "80f19196",
   "metadata": {},
   "outputs": [
    {
     "data": {
      "text/plain": [
       "104843"
      ]
     },
     "execution_count": 10,
     "metadata": {},
     "output_type": "execute_result"
    }
   ],
   "source": [
    "df.duplicated().sum()"
   ]
  },
  {
   "cell_type": "code",
   "execution_count": 12,
   "id": "6bc16bdf",
   "metadata": {
    "scrolled": true
   },
   "outputs": [
    {
     "data": {
      "text/html": [
       "<div>\n",
       "<style scoped>\n",
       "    .dataframe tbody tr th:only-of-type {\n",
       "        vertical-align: middle;\n",
       "    }\n",
       "\n",
       "    .dataframe tbody tr th {\n",
       "        vertical-align: top;\n",
       "    }\n",
       "\n",
       "    .dataframe thead th {\n",
       "        text-align: right;\n",
       "    }\n",
       "</style>\n",
       "<table border=\"1\" class=\"dataframe\">\n",
       "  <thead>\n",
       "    <tr style=\"text-align: right;\">\n",
       "      <th></th>\n",
       "      <th>fsn_id</th>\n",
       "      <th>order_date</th>\n",
       "      <th>Year</th>\n",
       "      <th>Month</th>\n",
       "      <th>order_id</th>\n",
       "      <th>order_item_id</th>\n",
       "      <th>gmv</th>\n",
       "      <th>units</th>\n",
       "      <th>deliverybdays</th>\n",
       "      <th>deliverycdays</th>\n",
       "      <th>s1_fact.order_payment_type</th>\n",
       "      <th>sla</th>\n",
       "      <th>cust_id</th>\n",
       "      <th>pincode</th>\n",
       "      <th>product_analytic_super_category</th>\n",
       "      <th>product_analytic_category</th>\n",
       "      <th>product_analytic_sub_category</th>\n",
       "      <th>product_analytic_vertical</th>\n",
       "      <th>product_mrp</th>\n",
       "      <th>product_procurement_sla</th>\n",
       "    </tr>\n",
       "  </thead>\n",
       "  <tbody>\n",
       "    <tr>\n",
       "      <th>76506</th>\n",
       "      <td>ACCE6YVWVHXXKCHW</td>\n",
       "      <td>2016-02-22 14:52:12</td>\n",
       "      <td>2016</td>\n",
       "      <td>2</td>\n",
       "      <td>3.417290e+15</td>\n",
       "      <td>3.417290e+15</td>\n",
       "      <td>350</td>\n",
       "      <td>1</td>\n",
       "      <td>7</td>\n",
       "      <td>8</td>\n",
       "      <td>Prepaid</td>\n",
       "      <td>8</td>\n",
       "      <td>-1.07035781735315E+018</td>\n",
       "      <td>8.45640885616433E+018</td>\n",
       "      <td>CE</td>\n",
       "      <td>GamingHardware</td>\n",
       "      <td>GamingAccessory</td>\n",
       "      <td>JoystickGamingWheel</td>\n",
       "      <td>599</td>\n",
       "      <td>2</td>\n",
       "    </tr>\n",
       "    <tr>\n",
       "      <th>276268</th>\n",
       "      <td>ACCEAD73KGPNFGUC</td>\n",
       "      <td>2015-11-09 09:59:14</td>\n",
       "      <td>2015</td>\n",
       "      <td>11</td>\n",
       "      <td>2.438985e+15</td>\n",
       "      <td>2.438985e+15</td>\n",
       "      <td></td>\n",
       "      <td>2</td>\n",
       "      <td>\\N</td>\n",
       "      <td>\\N</td>\n",
       "      <td>Prepaid</td>\n",
       "      <td>4</td>\n",
       "      <td></td>\n",
       "      <td></td>\n",
       "      <td>CE</td>\n",
       "      <td>EntertainmentSmall</td>\n",
       "      <td>Speaker</td>\n",
       "      <td>MobileSpeaker</td>\n",
       "      <td>1490</td>\n",
       "      <td>3</td>\n",
       "    </tr>\n",
       "    <tr>\n",
       "      <th>675305</th>\n",
       "      <td>ACCE7AV9TZHHAESC</td>\n",
       "      <td>2016-04-27 07:03:09</td>\n",
       "      <td>2016</td>\n",
       "      <td>4</td>\n",
       "      <td>2.532858e+15</td>\n",
       "      <td>2.532858e+15</td>\n",
       "      <td>4090.0</td>\n",
       "      <td>1</td>\n",
       "      <td>2</td>\n",
       "      <td>3</td>\n",
       "      <td>Prepaid</td>\n",
       "      <td>5</td>\n",
       "      <td>233114630667481984.0</td>\n",
       "      <td>-4071447699433639936.0</td>\n",
       "      <td>CE</td>\n",
       "      <td>GamingHardware</td>\n",
       "      <td>GamingAccessory</td>\n",
       "      <td>GamePad</td>\n",
       "      <td>4990</td>\n",
       "      <td>2</td>\n",
       "    </tr>\n",
       "    <tr>\n",
       "      <th>863407</th>\n",
       "      <td>ACCEEHPA7NNKCAME</td>\n",
       "      <td>2016-04-27 00:36:42</td>\n",
       "      <td>2016</td>\n",
       "      <td>4</td>\n",
       "      <td>2.560763e+15</td>\n",
       "      <td>2.560763e+15</td>\n",
       "      <td>798.0</td>\n",
       "      <td>1</td>\n",
       "      <td>\\N</td>\n",
       "      <td>\\N</td>\n",
       "      <td>Prepaid</td>\n",
       "      <td>6</td>\n",
       "      <td>-4645405676797639680.0</td>\n",
       "      <td>479427064452622016.0</td>\n",
       "      <td>CE</td>\n",
       "      <td>CameraAccessory</td>\n",
       "      <td>CameraStorage</td>\n",
       "      <td>CameraStorageMemoryCard</td>\n",
       "      <td>1599</td>\n",
       "      <td>3</td>\n",
       "    </tr>\n",
       "    <tr>\n",
       "      <th>932794</th>\n",
       "      <td>VGLE6NYDQZHZFB3A</td>\n",
       "      <td>2016-04-27 00:15:53</td>\n",
       "      <td>2016</td>\n",
       "      <td>4</td>\n",
       "      <td>1.559543e+15</td>\n",
       "      <td>1.559543e+15</td>\n",
       "      <td>290.0</td>\n",
       "      <td>1</td>\n",
       "      <td>\\N</td>\n",
       "      <td>\\N</td>\n",
       "      <td>Prepaid</td>\n",
       "      <td>12</td>\n",
       "      <td>7385644561775210496.0</td>\n",
       "      <td>4501710668747489792.0</td>\n",
       "      <td>CE</td>\n",
       "      <td>EntertainmentSmall</td>\n",
       "      <td>TVVideoSmall</td>\n",
       "      <td>VideoGlasses</td>\n",
       "      <td>999</td>\n",
       "      <td>5</td>\n",
       "    </tr>\n",
       "    <tr>\n",
       "      <th>...</th>\n",
       "      <td>...</td>\n",
       "      <td>...</td>\n",
       "      <td>...</td>\n",
       "      <td>...</td>\n",
       "      <td>...</td>\n",
       "      <td>...</td>\n",
       "      <td>...</td>\n",
       "      <td>...</td>\n",
       "      <td>...</td>\n",
       "      <td>...</td>\n",
       "      <td>...</td>\n",
       "      <td>...</td>\n",
       "      <td>...</td>\n",
       "      <td>...</td>\n",
       "      <td>...</td>\n",
       "      <td>...</td>\n",
       "      <td>...</td>\n",
       "      <td>...</td>\n",
       "      <td>...</td>\n",
       "      <td>...</td>\n",
       "    </tr>\n",
       "    <tr>\n",
       "      <th>1648819</th>\n",
       "      <td>VPLEYAP3ZYYUVESU</td>\n",
       "      <td>2015-09-27 19:20:31</td>\n",
       "      <td>2015</td>\n",
       "      <td>9</td>\n",
       "      <td>4.402170e+15</td>\n",
       "      <td>4.402170e+15</td>\n",
       "      <td>2200</td>\n",
       "      <td>1</td>\n",
       "      <td>\\N</td>\n",
       "      <td>\\N</td>\n",
       "      <td>COD</td>\n",
       "      <td>7</td>\n",
       "      <td>-9.90634340213633E+017</td>\n",
       "      <td>7.89475898877674E+018</td>\n",
       "      <td>CE</td>\n",
       "      <td>EntertainmentSmall</td>\n",
       "      <td>TVVideoSmall</td>\n",
       "      <td>VideoPlayer</td>\n",
       "      <td>2499</td>\n",
       "      <td>2</td>\n",
       "    </tr>\n",
       "    <tr>\n",
       "      <th>1648820</th>\n",
       "      <td>VPLEYAP3ZYYUVESU</td>\n",
       "      <td>2015-09-28 01:32:58</td>\n",
       "      <td>2015</td>\n",
       "      <td>9</td>\n",
       "      <td>1.402393e+15</td>\n",
       "      <td>1.402393e+15</td>\n",
       "      <td>2098</td>\n",
       "      <td>1</td>\n",
       "      <td>\\N</td>\n",
       "      <td>\\N</td>\n",
       "      <td>COD</td>\n",
       "      <td>10</td>\n",
       "      <td>3.04892345453077E+018</td>\n",
       "      <td>-1.45758574108572E+018</td>\n",
       "      <td>CE</td>\n",
       "      <td>EntertainmentSmall</td>\n",
       "      <td>TVVideoSmall</td>\n",
       "      <td>VideoPlayer</td>\n",
       "      <td>2499</td>\n",
       "      <td>2</td>\n",
       "    </tr>\n",
       "    <tr>\n",
       "      <th>1648821</th>\n",
       "      <td>VPLEYAP3ZYYUVESU</td>\n",
       "      <td>2015-09-29 07:07:57</td>\n",
       "      <td>2015</td>\n",
       "      <td>9</td>\n",
       "      <td>4.403460e+15</td>\n",
       "      <td>4.403460e+15</td>\n",
       "      <td>2098</td>\n",
       "      <td>1</td>\n",
       "      <td>\\N</td>\n",
       "      <td>\\N</td>\n",
       "      <td>COD</td>\n",
       "      <td>5</td>\n",
       "      <td>-4.53140379455183E+018</td>\n",
       "      <td>5.74649014721365E+018</td>\n",
       "      <td>CE</td>\n",
       "      <td>EntertainmentSmall</td>\n",
       "      <td>TVVideoSmall</td>\n",
       "      <td>VideoPlayer</td>\n",
       "      <td>2499</td>\n",
       "      <td>2</td>\n",
       "    </tr>\n",
       "    <tr>\n",
       "      <th>1648822</th>\n",
       "      <td>VPLEYAP3ZYYUVESU</td>\n",
       "      <td>2015-09-29 18:15:45</td>\n",
       "      <td>2015</td>\n",
       "      <td>9</td>\n",
       "      <td>4.403860e+15</td>\n",
       "      <td>4.403860e+15</td>\n",
       "      <td>2200</td>\n",
       "      <td>1</td>\n",
       "      <td>\\N</td>\n",
       "      <td>\\N</td>\n",
       "      <td>COD</td>\n",
       "      <td>3</td>\n",
       "      <td>-8.94046418180233E+018</td>\n",
       "      <td>2.57294814079718E+018</td>\n",
       "      <td>CE</td>\n",
       "      <td>EntertainmentSmall</td>\n",
       "      <td>TVVideoSmall</td>\n",
       "      <td>VideoPlayer</td>\n",
       "      <td>2499</td>\n",
       "      <td>2</td>\n",
       "    </tr>\n",
       "    <tr>\n",
       "      <th>1648823</th>\n",
       "      <td>VPLEYAP3ZYYUVESU</td>\n",
       "      <td>2015-09-29 21:31:37</td>\n",
       "      <td>2015</td>\n",
       "      <td>9</td>\n",
       "      <td>4.403971e+15</td>\n",
       "      <td>4.403971e+15</td>\n",
       "      <td>2295</td>\n",
       "      <td>1</td>\n",
       "      <td>\\N</td>\n",
       "      <td>\\N</td>\n",
       "      <td>COD</td>\n",
       "      <td>5</td>\n",
       "      <td>6.0094454082098E+018</td>\n",
       "      <td>4.38373500390134E+017</td>\n",
       "      <td>CE</td>\n",
       "      <td>EntertainmentSmall</td>\n",
       "      <td>TVVideoSmall</td>\n",
       "      <td>VideoPlayer</td>\n",
       "      <td>2499</td>\n",
       "      <td>2</td>\n",
       "    </tr>\n",
       "  </tbody>\n",
       "</table>\n",
       "<p>104955 rows × 20 columns</p>\n",
       "</div>"
      ],
      "text/plain": [
       "                   fsn_id           order_date  Year  Month      order_id  \\\n",
       "76506    ACCE6YVWVHXXKCHW  2016-02-22 14:52:12  2016      2  3.417290e+15   \n",
       "276268   ACCEAD73KGPNFGUC  2015-11-09 09:59:14  2015     11  2.438985e+15   \n",
       "675305   ACCE7AV9TZHHAESC  2016-04-27 07:03:09  2016      4  2.532858e+15   \n",
       "863407   ACCEEHPA7NNKCAME  2016-04-27 00:36:42  2016      4  2.560763e+15   \n",
       "932794   VGLE6NYDQZHZFB3A  2016-04-27 00:15:53  2016      4  1.559543e+15   \n",
       "...                   ...                  ...   ...    ...           ...   \n",
       "1648819  VPLEYAP3ZYYUVESU  2015-09-27 19:20:31  2015      9  4.402170e+15   \n",
       "1648820  VPLEYAP3ZYYUVESU  2015-09-28 01:32:58  2015      9  1.402393e+15   \n",
       "1648821  VPLEYAP3ZYYUVESU  2015-09-29 07:07:57  2015      9  4.403460e+15   \n",
       "1648822  VPLEYAP3ZYYUVESU  2015-09-29 18:15:45  2015      9  4.403860e+15   \n",
       "1648823  VPLEYAP3ZYYUVESU  2015-09-29 21:31:37  2015      9  4.403971e+15   \n",
       "\n",
       "         order_item_id     gmv  units deliverybdays deliverycdays  \\\n",
       "76506     3.417290e+15     350      1             7             8   \n",
       "276268    2.438985e+15              2            \\N            \\N   \n",
       "675305    2.532858e+15  4090.0      1             2             3   \n",
       "863407    2.560763e+15   798.0      1            \\N            \\N   \n",
       "932794    1.559543e+15   290.0      1            \\N            \\N   \n",
       "...                ...     ...    ...           ...           ...   \n",
       "1648819   4.402170e+15    2200      1            \\N            \\N   \n",
       "1648820   1.402393e+15    2098      1            \\N            \\N   \n",
       "1648821   4.403460e+15    2098      1            \\N            \\N   \n",
       "1648822   4.403860e+15    2200      1            \\N            \\N   \n",
       "1648823   4.403971e+15    2295      1            \\N            \\N   \n",
       "\n",
       "        s1_fact.order_payment_type  sla                 cust_id  \\\n",
       "76506                      Prepaid    8  -1.07035781735315E+018   \n",
       "276268                     Prepaid    4                           \n",
       "675305                     Prepaid    5    233114630667481984.0   \n",
       "863407                     Prepaid    6  -4645405676797639680.0   \n",
       "932794                     Prepaid   12   7385644561775210496.0   \n",
       "...                            ...  ...                     ...   \n",
       "1648819                        COD    7  -9.90634340213633E+017   \n",
       "1648820                        COD   10   3.04892345453077E+018   \n",
       "1648821                        COD    5  -4.53140379455183E+018   \n",
       "1648822                        COD    3  -8.94046418180233E+018   \n",
       "1648823                        COD    5    6.0094454082098E+018   \n",
       "\n",
       "                        pincode product_analytic_super_category  \\\n",
       "76506     8.45640885616433E+018                              CE   \n",
       "276268                                                       CE   \n",
       "675305   -4071447699433639936.0                              CE   \n",
       "863407     479427064452622016.0                              CE   \n",
       "932794    4501710668747489792.0                              CE   \n",
       "...                         ...                             ...   \n",
       "1648819   7.89475898877674E+018                              CE   \n",
       "1648820  -1.45758574108572E+018                              CE   \n",
       "1648821   5.74649014721365E+018                              CE   \n",
       "1648822   2.57294814079718E+018                              CE   \n",
       "1648823   4.38373500390134E+017                              CE   \n",
       "\n",
       "        product_analytic_category product_analytic_sub_category  \\\n",
       "76506              GamingHardware               GamingAccessory   \n",
       "276268         EntertainmentSmall                       Speaker   \n",
       "675305             GamingHardware               GamingAccessory   \n",
       "863407            CameraAccessory                 CameraStorage   \n",
       "932794         EntertainmentSmall                  TVVideoSmall   \n",
       "...                           ...                           ...   \n",
       "1648819        EntertainmentSmall                  TVVideoSmall   \n",
       "1648820        EntertainmentSmall                  TVVideoSmall   \n",
       "1648821        EntertainmentSmall                  TVVideoSmall   \n",
       "1648822        EntertainmentSmall                  TVVideoSmall   \n",
       "1648823        EntertainmentSmall                  TVVideoSmall   \n",
       "\n",
       "        product_analytic_vertical  product_mrp  product_procurement_sla  \n",
       "76506         JoystickGamingWheel          599                        2  \n",
       "276268              MobileSpeaker         1490                        3  \n",
       "675305                    GamePad         4990                        2  \n",
       "863407    CameraStorageMemoryCard         1599                        3  \n",
       "932794               VideoGlasses          999                        5  \n",
       "...                           ...          ...                      ...  \n",
       "1648819               VideoPlayer         2499                        2  \n",
       "1648820               VideoPlayer         2499                        2  \n",
       "1648821               VideoPlayer         2499                        2  \n",
       "1648822               VideoPlayer         2499                        2  \n",
       "1648823               VideoPlayer         2499                        2  \n",
       "\n",
       "[104955 rows x 20 columns]"
      ]
     },
     "execution_count": 12,
     "metadata": {},
     "output_type": "execute_result"
    }
   ],
   "source": [
    "df[df.duplicated(['fsn_id','order_date','order_id','order_item_id',\n",
    "                              'gmv','cust_id','pincode',\n",
    "                              'product_analytic_category','product_analytic_sub_category',\n",
    "                             'product_analytic_vertical'])]"
   ]
  },
  {
   "cell_type": "code",
   "execution_count": 13,
   "id": "eafe31fd",
   "metadata": {},
   "outputs": [],
   "source": [
    "#creating a copy of the dataframe for backup before making changes to it\n",
    "df_copy=df.copy()"
   ]
  },
  {
   "cell_type": "code",
   "execution_count": 14,
   "id": "25524e3e",
   "metadata": {},
   "outputs": [],
   "source": [
    "#Removing duplicated values\n",
    "df_copy = df_copy[~df_copy.duplicated(['fsn_id','order_date','order_id','order_item_id',\n",
    "                              'gmv','cust_id','pincode',\n",
    "                              'product_analytic_category','product_analytic_sub_category',\n",
    "                             'product_analytic_vertical'])]"
   ]
  },
  {
   "cell_type": "code",
   "execution_count": 16,
   "id": "0ee9351d",
   "metadata": {},
   "outputs": [
    {
     "data": {
      "text/html": [
       "<div>\n",
       "<style scoped>\n",
       "    .dataframe tbody tr th:only-of-type {\n",
       "        vertical-align: middle;\n",
       "    }\n",
       "\n",
       "    .dataframe tbody tr th {\n",
       "        vertical-align: top;\n",
       "    }\n",
       "\n",
       "    .dataframe thead th {\n",
       "        text-align: right;\n",
       "    }\n",
       "</style>\n",
       "<table border=\"1\" class=\"dataframe\">\n",
       "  <thead>\n",
       "    <tr style=\"text-align: right;\">\n",
       "      <th></th>\n",
       "      <th>fsn_id</th>\n",
       "      <th>order_date</th>\n",
       "      <th>Year</th>\n",
       "      <th>Month</th>\n",
       "      <th>order_id</th>\n",
       "      <th>order_item_id</th>\n",
       "      <th>gmv</th>\n",
       "      <th>units</th>\n",
       "      <th>deliverybdays</th>\n",
       "      <th>deliverycdays</th>\n",
       "      <th>s1_fact.order_payment_type</th>\n",
       "      <th>sla</th>\n",
       "      <th>cust_id</th>\n",
       "      <th>pincode</th>\n",
       "      <th>product_analytic_super_category</th>\n",
       "      <th>product_analytic_category</th>\n",
       "      <th>product_analytic_sub_category</th>\n",
       "      <th>product_analytic_vertical</th>\n",
       "      <th>product_mrp</th>\n",
       "      <th>product_procurement_sla</th>\n",
       "    </tr>\n",
       "  </thead>\n",
       "  <tbody>\n",
       "  </tbody>\n",
       "</table>\n",
       "</div>"
      ],
      "text/plain": [
       "Empty DataFrame\n",
       "Columns: [fsn_id, order_date, Year, Month, order_id, order_item_id, gmv, units, deliverybdays, deliverycdays, s1_fact.order_payment_type, sla, cust_id, pincode, product_analytic_super_category, product_analytic_category, product_analytic_sub_category, product_analytic_vertical, product_mrp, product_procurement_sla]\n",
       "Index: []"
      ]
     },
     "execution_count": 16,
     "metadata": {},
     "output_type": "execute_result"
    }
   ],
   "source": [
    "df_copy.loc[df_copy.duplicated()]"
   ]
  },
  {
   "cell_type": "code",
   "execution_count": 17,
   "id": "f235cb4c",
   "metadata": {},
   "outputs": [],
   "source": [
    "# Removing whitespaces and other extra characters\n",
    "df_copy.replace(r'^\\s+$', np.nan, regex=True, inplace = True)\n",
    "df_copy.replace('\\\\N', np.nan, inplace = True)"
   ]
  },
  {
   "cell_type": "code",
   "execution_count": 19,
   "id": "8cdadc14",
   "metadata": {},
   "outputs": [
    {
     "data": {
      "text/plain": [
       "fsn_id                              0.00\n",
       "order_date                          0.00\n",
       "Year                                0.00\n",
       "Month                               0.00\n",
       "order_id                            0.00\n",
       "order_item_id                       0.00\n",
       "gmv                                 0.26\n",
       "units                               0.00\n",
       "deliverybdays                      78.25\n",
       "deliverycdays                      78.25\n",
       "s1_fact.order_payment_type          0.00\n",
       "sla                                 0.00\n",
       "cust_id                             0.26\n",
       "pincode                             0.26\n",
       "product_analytic_super_category     0.00\n",
       "product_analytic_category           0.00\n",
       "product_analytic_sub_category       0.00\n",
       "product_analytic_vertical           0.38\n",
       "product_mrp                         0.00\n",
       "product_procurement_sla             0.00\n",
       "dtype: float64"
      ]
     },
     "execution_count": 19,
     "metadata": {},
     "output_type": "execute_result"
    }
   ],
   "source": [
    "# let's check the null percentage for each column\n",
    "round(100*(df_copy.isnull().sum()/len(df_copy.index)), 2)"
   ]
  },
  {
   "cell_type": "markdown",
   "id": "64e5e297",
   "metadata": {},
   "source": [
    "<div class=\"alert alert-block alert-info\">\n",
    "GMV stands for Gross Merchandise Value. It is a financial metric that represents the total value of merchandise or goods sold or transacted through a particular platform, marketplace, or business during a specified period. Null values in GMV indicate no sales, inactive period or data anomaly. Hence, we will remove nulls in GMV.\n"
   ]
  },
  {
   "cell_type": "code",
   "execution_count": 20,
   "id": "9e78197c",
   "metadata": {},
   "outputs": [],
   "source": [
    "#removing null valued GMV\n",
    "df_copy= df_copy.loc[~(df_copy.gmv.isnull())]"
   ]
  },
  {
   "cell_type": "code",
   "execution_count": 22,
   "id": "21a274e0",
   "metadata": {},
   "outputs": [
    {
     "data": {
      "text/plain": [
       "fsn_id                              0.00\n",
       "order_date                          0.00\n",
       "Year                                0.00\n",
       "Month                               0.00\n",
       "order_id                            0.00\n",
       "order_item_id                       0.00\n",
       "gmv                                 0.00\n",
       "units                               0.00\n",
       "deliverybdays                      78.20\n",
       "deliverycdays                      78.20\n",
       "s1_fact.order_payment_type          0.00\n",
       "sla                                 0.00\n",
       "cust_id                             0.00\n",
       "pincode                             0.00\n",
       "product_analytic_super_category     0.00\n",
       "product_analytic_category           0.00\n",
       "product_analytic_sub_category       0.00\n",
       "product_analytic_vertical           0.38\n",
       "product_mrp                         0.00\n",
       "product_procurement_sla             0.00\n",
       "dtype: float64"
      ]
     },
     "execution_count": 22,
     "metadata": {},
     "output_type": "execute_result"
    }
   ],
   "source": [
    "# let's check the null percentage for each column again\n",
    "round(100*(df_copy.isnull().sum()/len(df_copy.index)), 2)"
   ]
  },
  {
   "cell_type": "markdown",
   "id": "e47657cd",
   "metadata": {},
   "source": [
    "1. product_analytic_super_category, product_analytic_category, product_analytic_sub_category, product_analytic_vertical"
   ]
  },
  {
   "cell_type": "code",
   "execution_count": 23,
   "id": "5404047f",
   "metadata": {},
   "outputs": [],
   "source": [
    "# Let's drop the rows that have product analytic vertical as null.\n",
    "df_copy = df_copy[~pd.isnull(df_copy.product_analytic_vertical)]"
   ]
  },
  {
   "cell_type": "code",
   "execution_count": 24,
   "id": "cdd78221",
   "metadata": {},
   "outputs": [
    {
     "data": {
      "text/plain": [
       "array(['CE'], dtype=object)"
      ]
     },
     "execution_count": 24,
     "metadata": {},
     "output_type": "execute_result"
    }
   ],
   "source": [
    "# Let's now check the product_analytic_super_category unique values\n",
    "df_copy.product_analytic_super_category.unique()"
   ]
  },
  {
   "cell_type": "code",
   "execution_count": 25,
   "id": "dc2a9c31",
   "metadata": {},
   "outputs": [],
   "source": [
    "#There is only one value for this column. Hence, we can remove the column.\n",
    "df_copy.drop('product_analytic_super_category',1, inplace = True)"
   ]
  },
  {
   "cell_type": "code",
   "execution_count": 26,
   "id": "7eebbc23",
   "metadata": {},
   "outputs": [
    {
     "data": {
      "text/plain": [
       "array(['CameraAccessory', 'GamingHardware', 'EntertainmentSmall',\n",
       "       'GameCDDVD', 'Camera'], dtype=object)"
      ]
     },
     "execution_count": 26,
     "metadata": {},
     "output_type": "execute_result"
    }
   ],
   "source": [
    "df_copy.product_analytic_category.unique()"
   ]
  },
  {
   "cell_type": "code",
   "execution_count": 27,
   "id": "a47f7450",
   "metadata": {},
   "outputs": [
    {
     "data": {
      "text/plain": [
       "array(['CameraAccessory', 'GamingAccessory', 'Speaker', 'HomeAudio',\n",
       "       'CameraStorage', 'AmplifierReceiver', 'AudioMP3Player', 'Game',\n",
       "       'Camera', 'GamingConsole', 'HomeTheatre', 'AudioAccessory',\n",
       "       'TVVideoSmall', 'GameMembershipCards'], dtype=object)"
      ]
     },
     "execution_count": 27,
     "metadata": {},
     "output_type": "execute_result"
    }
   ],
   "source": [
    "df_copy.product_analytic_sub_category.unique()"
   ]
  },
  {
   "cell_type": "code",
   "execution_count": 28,
   "id": "8dfd73b9",
   "metadata": {},
   "outputs": [],
   "source": [
    "#The three product sub categories for the MMM are - camera accessory, home audio and gaming accessory.\n",
    "#Removing the rows with other sub categories\n",
    "\n",
    "df_copy = df_copy.loc[(df_copy.product_analytic_sub_category=='CameraAccessory') |\n",
    "                       (df_copy.product_analytic_sub_category=='GamingAccessory')|\n",
    "                       (df_copy.product_analytic_sub_category=='HomeAudio')]"
   ]
  },
  {
   "cell_type": "markdown",
   "id": "866892f3",
   "metadata": {},
   "source": [
    "2. GMV"
   ]
  },
  {
   "cell_type": "code",
   "execution_count": 29,
   "id": "88830ce9",
   "metadata": {},
   "outputs": [],
   "source": [
    "#Let's convert the data type of GMV\n",
    "\n",
    "df_copy['gmv'] = pd.to_numeric(df_copy['gmv'])"
   ]
  },
  {
   "cell_type": "code",
   "execution_count": 30,
   "id": "a364ff1b",
   "metadata": {},
   "outputs": [
    {
     "name": "stdout",
     "output_type": "stream",
     "text": [
      "0.0\n",
      "148050.0\n"
     ]
    }
   ],
   "source": [
    "#Checking the minimum and maximum values of GMV\n",
    "print(df_copy.gmv.min())\n",
    "print(df_copy.gmv.max())"
   ]
  },
  {
   "cell_type": "markdown",
   "id": "f5cd7104",
   "metadata": {},
   "source": [
    "gmv (Gross Merchendising Value - The cost price at which the item is sold multiplied by number of units) - Value at 0.0 seems odd.\n",
    "\n",
    "Assumption : It could be because of any promotional offers, hence not deleting them"
   ]
  },
  {
   "cell_type": "code",
   "execution_count": 32,
   "id": "d061e521",
   "metadata": {},
   "outputs": [
    {
     "data": {
      "text/plain": [
       "0"
      ]
     },
     "execution_count": 32,
     "metadata": {},
     "output_type": "execute_result"
    }
   ],
   "source": [
    "#Checking nulls in gmv value\n",
    "df_copy.gmv.isnull().sum()"
   ]
  },
  {
   "cell_type": "markdown",
   "id": "be25a921",
   "metadata": {},
   "source": [
    "3. deliverybdays and deliverycdays"
   ]
  },
  {
   "cell_type": "code",
   "execution_count": 33,
   "id": "b969596e",
   "metadata": {},
   "outputs": [
    {
     "name": "stdout",
     "output_type": "stream",
     "text": [
      "4    23535\n",
      "5    23058\n",
      "3    18708\n",
      "6    17915\n",
      "2    10924\n",
      "Name: deliverybdays, dtype: int64\n",
      "5    21584\n",
      "6    19605\n",
      "4    18637\n",
      "7    14137\n",
      "3    13212\n",
      "Name: deliverycdays, dtype: int64\n"
     ]
    }
   ],
   "source": [
    "# The columns deliverybdays and deliverycdays are populated with \\N, which is incorrect.\n",
    "# Let's replace them with null.\n",
    "print(df_copy.deliverybdays.value_counts().head())\n",
    "print(df_copy.deliverycdays.value_counts().head())"
   ]
  },
  {
   "cell_type": "code",
   "execution_count": 34,
   "id": "c2c96209",
   "metadata": {},
   "outputs": [
    {
     "name": "stdout",
     "output_type": "stream",
     "text": [
      "0.7776837872695547\n",
      "0.7776837872695547\n"
     ]
    }
   ],
   "source": [
    "print(df_copy.deliverybdays.isnull().sum()/len(df_copy))\n",
    "print(df_copy.deliverycdays.isnull().sum()/len(df_copy))"
   ]
  },
  {
   "cell_type": "code",
   "execution_count": 35,
   "id": "ca86fe42",
   "metadata": {},
   "outputs": [],
   "source": [
    "# We can drop delivercdays and deliverybdays column as it has 79% null values.\n",
    "df_copy.drop(['deliverybdays', 'deliverycdays'],1, inplace = True)"
   ]
  },
  {
   "cell_type": "markdown",
   "id": "42b699f4",
   "metadata": {},
   "source": [
    "4. order_date"
   ]
  },
  {
   "cell_type": "code",
   "execution_count": 36,
   "id": "79bb3488",
   "metadata": {},
   "outputs": [],
   "source": [
    "# Before dealing with null values, let's first correct the data type of order_date\n",
    "df_copy['order_date'] = pd.to_datetime(df_copy['order_date'])"
   ]
  },
  {
   "cell_type": "code",
   "execution_count": 37,
   "id": "208fa0ca",
   "metadata": {},
   "outputs": [
    {
     "data": {
      "text/html": [
       "<div>\n",
       "<style scoped>\n",
       "    .dataframe tbody tr th:only-of-type {\n",
       "        vertical-align: middle;\n",
       "    }\n",
       "\n",
       "    .dataframe tbody tr th {\n",
       "        vertical-align: top;\n",
       "    }\n",
       "\n",
       "    .dataframe thead th {\n",
       "        text-align: right;\n",
       "    }\n",
       "</style>\n",
       "<table border=\"1\" class=\"dataframe\">\n",
       "  <thead>\n",
       "    <tr style=\"text-align: right;\">\n",
       "      <th></th>\n",
       "      <th>fsn_id</th>\n",
       "      <th>order_date</th>\n",
       "      <th>Year</th>\n",
       "      <th>Month</th>\n",
       "      <th>order_id</th>\n",
       "      <th>order_item_id</th>\n",
       "      <th>gmv</th>\n",
       "      <th>units</th>\n",
       "      <th>s1_fact.order_payment_type</th>\n",
       "      <th>sla</th>\n",
       "      <th>cust_id</th>\n",
       "      <th>pincode</th>\n",
       "      <th>product_analytic_category</th>\n",
       "      <th>product_analytic_sub_category</th>\n",
       "      <th>product_analytic_vertical</th>\n",
       "      <th>product_mrp</th>\n",
       "      <th>product_procurement_sla</th>\n",
       "    </tr>\n",
       "  </thead>\n",
       "  <tbody>\n",
       "    <tr>\n",
       "      <th>1071934</th>\n",
       "      <td>ACCCX3SGRHSRGTHZ</td>\n",
       "      <td>2016-07-01 01:07:36</td>\n",
       "      <td>2016</td>\n",
       "      <td>7</td>\n",
       "      <td>1.611380e+15</td>\n",
       "      <td>1.611380e+15</td>\n",
       "      <td>9999.0</td>\n",
       "      <td>1</td>\n",
       "      <td>COD</td>\n",
       "      <td>6</td>\n",
       "      <td>-6062166819020010496.0</td>\n",
       "      <td>8011106654138590208.0</td>\n",
       "      <td>CameraAccessory</td>\n",
       "      <td>CameraAccessory</td>\n",
       "      <td>Lens</td>\n",
       "      <td>19500</td>\n",
       "      <td>2</td>\n",
       "    </tr>\n",
       "    <tr>\n",
       "      <th>1074944</th>\n",
       "      <td>ACCD6HEGVCDHXPNQ</td>\n",
       "      <td>2016-07-03 16:12:47</td>\n",
       "      <td>2016</td>\n",
       "      <td>7</td>\n",
       "      <td>2.602426e+15</td>\n",
       "      <td>2.602426e+15</td>\n",
       "      <td>399.0</td>\n",
       "      <td>1</td>\n",
       "      <td>COD</td>\n",
       "      <td>6</td>\n",
       "      <td>2872406203167170048.0</td>\n",
       "      <td>-7543985763413010432.0</td>\n",
       "      <td>GamingHardware</td>\n",
       "      <td>GamingAccessory</td>\n",
       "      <td>GamePad</td>\n",
       "      <td>449</td>\n",
       "      <td>-1</td>\n",
       "    </tr>\n",
       "    <tr>\n",
       "      <th>1077916</th>\n",
       "      <td>ACCDFZEJAXVJDGS7</td>\n",
       "      <td>2016-07-01 01:03:17</td>\n",
       "      <td>2016</td>\n",
       "      <td>7</td>\n",
       "      <td>4.611923e+15</td>\n",
       "      <td>4.611923e+15</td>\n",
       "      <td>3699.0</td>\n",
       "      <td>1</td>\n",
       "      <td>Prepaid</td>\n",
       "      <td>2</td>\n",
       "      <td>-2126839628533280000.0</td>\n",
       "      <td>-3973362991373910016.0</td>\n",
       "      <td>EntertainmentSmall</td>\n",
       "      <td>HomeAudio</td>\n",
       "      <td>HomeAudioSpeaker</td>\n",
       "      <td>5290</td>\n",
       "      <td>-1</td>\n",
       "    </tr>\n",
       "    <tr>\n",
       "      <th>1080123</th>\n",
       "      <td>ACCDHQ8N6DGBYGKZ</td>\n",
       "      <td>2016-07-02 07:04:29</td>\n",
       "      <td>2016</td>\n",
       "      <td>7</td>\n",
       "      <td>3.612046e+15</td>\n",
       "      <td>3.612046e+15</td>\n",
       "      <td>949.0</td>\n",
       "      <td>1</td>\n",
       "      <td>COD</td>\n",
       "      <td>1</td>\n",
       "      <td>1164936338609760000.0</td>\n",
       "      <td>2370358404467279872.0</td>\n",
       "      <td>CameraAccessory</td>\n",
       "      <td>CameraAccessory</td>\n",
       "      <td>CameraTripod</td>\n",
       "      <td>1499</td>\n",
       "      <td>2</td>\n",
       "    </tr>\n",
       "    <tr>\n",
       "      <th>1082641</th>\n",
       "      <td>ACCDPYBFTPE5PRGT</td>\n",
       "      <td>2016-07-02 06:49:00</td>\n",
       "      <td>2016</td>\n",
       "      <td>7</td>\n",
       "      <td>4.609993e+15</td>\n",
       "      <td>4.609993e+15</td>\n",
       "      <td>1050.0</td>\n",
       "      <td>1</td>\n",
       "      <td>Prepaid</td>\n",
       "      <td>1</td>\n",
       "      <td>-9069302869700119552.0</td>\n",
       "      <td>4705607051154690048.0</td>\n",
       "      <td>GamingHardware</td>\n",
       "      <td>GamingAccessory</td>\n",
       "      <td>GamingHeadset</td>\n",
       "      <td>1792</td>\n",
       "      <td>1</td>\n",
       "    </tr>\n",
       "    <tr>\n",
       "      <th>...</th>\n",
       "      <td>...</td>\n",
       "      <td>...</td>\n",
       "      <td>...</td>\n",
       "      <td>...</td>\n",
       "      <td>...</td>\n",
       "      <td>...</td>\n",
       "      <td>...</td>\n",
       "      <td>...</td>\n",
       "      <td>...</td>\n",
       "      <td>...</td>\n",
       "      <td>...</td>\n",
       "      <td>...</td>\n",
       "      <td>...</td>\n",
       "      <td>...</td>\n",
       "      <td>...</td>\n",
       "      <td>...</td>\n",
       "      <td>...</td>\n",
       "    </tr>\n",
       "    <tr>\n",
       "      <th>1343782</th>\n",
       "      <td>TESE8HQPC9KY7EDY</td>\n",
       "      <td>2016-07-05 12:05:06</td>\n",
       "      <td>2016</td>\n",
       "      <td>7</td>\n",
       "      <td>1.640574e+15</td>\n",
       "      <td>1.640574e+15</td>\n",
       "      <td>2100.0</td>\n",
       "      <td>1</td>\n",
       "      <td>COD</td>\n",
       "      <td>7</td>\n",
       "      <td>-2.65648840718291E+018</td>\n",
       "      <td>-6.95142635777575E+018</td>\n",
       "      <td>CameraAccessory</td>\n",
       "      <td>CameraAccessory</td>\n",
       "      <td>Telescope</td>\n",
       "      <td>3000</td>\n",
       "      <td>1</td>\n",
       "    </tr>\n",
       "    <tr>\n",
       "      <th>1348417</th>\n",
       "      <td>VORDSAYVZVHS2THQ</td>\n",
       "      <td>2016-07-01 18:58:15</td>\n",
       "      <td>2016</td>\n",
       "      <td>7</td>\n",
       "      <td>3.633598e+15</td>\n",
       "      <td>3.633598e+15</td>\n",
       "      <td>4274.0</td>\n",
       "      <td>1</td>\n",
       "      <td>COD</td>\n",
       "      <td>4</td>\n",
       "      <td>-3.62228587849267E+018</td>\n",
       "      <td>1.70212685331306E+018</td>\n",
       "      <td>EntertainmentSmall</td>\n",
       "      <td>HomeAudio</td>\n",
       "      <td>VoiceRecorder</td>\n",
       "      <td>6359</td>\n",
       "      <td>2</td>\n",
       "    </tr>\n",
       "    <tr>\n",
       "      <th>1376093</th>\n",
       "      <td>ACCDVZ83VBHCWFFA</td>\n",
       "      <td>2015-05-19 13:42:09</td>\n",
       "      <td>2015</td>\n",
       "      <td>5</td>\n",
       "      <td>1.464995e+08</td>\n",
       "      <td>1.884850e+08</td>\n",
       "      <td>3149.0</td>\n",
       "      <td>1</td>\n",
       "      <td>COD</td>\n",
       "      <td>6</td>\n",
       "      <td>-6.14850311678963E+018</td>\n",
       "      <td>-3.21775258155408E+018</td>\n",
       "      <td>EntertainmentSmall</td>\n",
       "      <td>HomeAudio</td>\n",
       "      <td>HomeAudioSpeaker</td>\n",
       "      <td>6990</td>\n",
       "      <td>4</td>\n",
       "    </tr>\n",
       "    <tr>\n",
       "      <th>1402659</th>\n",
       "      <td>ACCE8G8BFKZRU3MW</td>\n",
       "      <td>2015-06-26 17:33:10</td>\n",
       "      <td>2015</td>\n",
       "      <td>6</td>\n",
       "      <td>1.634113e+08</td>\n",
       "      <td>2.077142e+08</td>\n",
       "      <td>2800.0</td>\n",
       "      <td>1</td>\n",
       "      <td>COD</td>\n",
       "      <td>11</td>\n",
       "      <td>5.80459991910742E+018</td>\n",
       "      <td>3.91454170274896E+018</td>\n",
       "      <td>EntertainmentSmall</td>\n",
       "      <td>HomeAudio</td>\n",
       "      <td>HomeAudioSpeaker</td>\n",
       "      <td>3000</td>\n",
       "      <td>3</td>\n",
       "    </tr>\n",
       "    <tr>\n",
       "      <th>1429828</th>\n",
       "      <td>PPRD7SGNCSGSEWDN</td>\n",
       "      <td>2015-06-26 17:27:12</td>\n",
       "      <td>2015</td>\n",
       "      <td>6</td>\n",
       "      <td>1.634094e+08</td>\n",
       "      <td>2.077119e+08</td>\n",
       "      <td>350.0</td>\n",
       "      <td>1</td>\n",
       "      <td>COD</td>\n",
       "      <td>5</td>\n",
       "      <td>7.81569135848536E+018</td>\n",
       "      <td>5.8510313294317E+017</td>\n",
       "      <td>CameraAccessory</td>\n",
       "      <td>CameraAccessory</td>\n",
       "      <td>CameraAccessory</td>\n",
       "      <td>399</td>\n",
       "      <td>3</td>\n",
       "    </tr>\n",
       "  </tbody>\n",
       "</table>\n",
       "<p>200 rows × 17 columns</p>\n",
       "</div>"
      ],
      "text/plain": [
       "                   fsn_id          order_date  Year  Month      order_id  \\\n",
       "1071934  ACCCX3SGRHSRGTHZ 2016-07-01 01:07:36  2016      7  1.611380e+15   \n",
       "1074944  ACCD6HEGVCDHXPNQ 2016-07-03 16:12:47  2016      7  2.602426e+15   \n",
       "1077916  ACCDFZEJAXVJDGS7 2016-07-01 01:03:17  2016      7  4.611923e+15   \n",
       "1080123  ACCDHQ8N6DGBYGKZ 2016-07-02 07:04:29  2016      7  3.612046e+15   \n",
       "1082641  ACCDPYBFTPE5PRGT 2016-07-02 06:49:00  2016      7  4.609993e+15   \n",
       "...                   ...                 ...   ...    ...           ...   \n",
       "1343782  TESE8HQPC9KY7EDY 2016-07-05 12:05:06  2016      7  1.640574e+15   \n",
       "1348417  VORDSAYVZVHS2THQ 2016-07-01 18:58:15  2016      7  3.633598e+15   \n",
       "1376093  ACCDVZ83VBHCWFFA 2015-05-19 13:42:09  2015      5  1.464995e+08   \n",
       "1402659  ACCE8G8BFKZRU3MW 2015-06-26 17:33:10  2015      6  1.634113e+08   \n",
       "1429828  PPRD7SGNCSGSEWDN 2015-06-26 17:27:12  2015      6  1.634094e+08   \n",
       "\n",
       "         order_item_id     gmv  units s1_fact.order_payment_type  sla  \\\n",
       "1071934   1.611380e+15  9999.0      1                        COD    6   \n",
       "1074944   2.602426e+15   399.0      1                        COD    6   \n",
       "1077916   4.611923e+15  3699.0      1                    Prepaid    2   \n",
       "1080123   3.612046e+15   949.0      1                        COD    1   \n",
       "1082641   4.609993e+15  1050.0      1                    Prepaid    1   \n",
       "...                ...     ...    ...                        ...  ...   \n",
       "1343782   1.640574e+15  2100.0      1                        COD    7   \n",
       "1348417   3.633598e+15  4274.0      1                        COD    4   \n",
       "1376093   1.884850e+08  3149.0      1                        COD    6   \n",
       "1402659   2.077142e+08  2800.0      1                        COD   11   \n",
       "1429828   2.077119e+08   350.0      1                        COD    5   \n",
       "\n",
       "                        cust_id                 pincode  \\\n",
       "1071934  -6062166819020010496.0   8011106654138590208.0   \n",
       "1074944   2872406203167170048.0  -7543985763413010432.0   \n",
       "1077916  -2126839628533280000.0  -3973362991373910016.0   \n",
       "1080123   1164936338609760000.0   2370358404467279872.0   \n",
       "1082641  -9069302869700119552.0   4705607051154690048.0   \n",
       "...                         ...                     ...   \n",
       "1343782  -2.65648840718291E+018  -6.95142635777575E+018   \n",
       "1348417  -3.62228587849267E+018   1.70212685331306E+018   \n",
       "1376093  -6.14850311678963E+018  -3.21775258155408E+018   \n",
       "1402659   5.80459991910742E+018   3.91454170274896E+018   \n",
       "1429828   7.81569135848536E+018    5.8510313294317E+017   \n",
       "\n",
       "        product_analytic_category product_analytic_sub_category  \\\n",
       "1071934           CameraAccessory               CameraAccessory   \n",
       "1074944            GamingHardware               GamingAccessory   \n",
       "1077916        EntertainmentSmall                     HomeAudio   \n",
       "1080123           CameraAccessory               CameraAccessory   \n",
       "1082641            GamingHardware               GamingAccessory   \n",
       "...                           ...                           ...   \n",
       "1343782           CameraAccessory               CameraAccessory   \n",
       "1348417        EntertainmentSmall                     HomeAudio   \n",
       "1376093        EntertainmentSmall                     HomeAudio   \n",
       "1402659        EntertainmentSmall                     HomeAudio   \n",
       "1429828           CameraAccessory               CameraAccessory   \n",
       "\n",
       "        product_analytic_vertical  product_mrp  product_procurement_sla  \n",
       "1071934                      Lens        19500                        2  \n",
       "1074944                   GamePad          449                       -1  \n",
       "1077916          HomeAudioSpeaker         5290                       -1  \n",
       "1080123              CameraTripod         1499                        2  \n",
       "1082641             GamingHeadset         1792                        1  \n",
       "...                           ...          ...                      ...  \n",
       "1343782                 Telescope         3000                        1  \n",
       "1348417             VoiceRecorder         6359                        2  \n",
       "1376093          HomeAudioSpeaker         6990                        4  \n",
       "1402659          HomeAudioSpeaker         3000                        3  \n",
       "1429828           CameraAccessory          399                        3  \n",
       "\n",
       "[200 rows x 17 columns]"
      ]
     },
     "execution_count": 37,
     "metadata": {},
     "output_type": "execute_result"
    }
   ],
   "source": [
    "# We now need to check if the dates are not outside July 2015 and June 2016.\n",
    "df_copy.loc[(df_copy.order_date < '2015-07-01') | (df_copy.order_date >= '2016-07-01')]"
   ]
  },
  {
   "cell_type": "code",
   "execution_count": 38,
   "id": "7c703096",
   "metadata": {},
   "outputs": [],
   "source": [
    "# Let us delete the rows which lie outside the period of analysis\n",
    "df_copy = df_copy.loc[(df_copy.order_date >= '2015-07-01')]\n",
    "df_copy = df_copy.loc[(df_copy.order_date < '2016-07-01')]"
   ]
  },
  {
   "cell_type": "markdown",
   "id": "6d9a0433",
   "metadata": {},
   "source": [
    "5. s1_fact.order_payment_type"
   ]
  },
  {
   "cell_type": "code",
   "execution_count": 39,
   "id": "ee2c4d56",
   "metadata": {},
   "outputs": [],
   "source": [
    "#Changing the name of the column s1_fact.order_payment_type\n",
    "df_copy.rename(columns={'s1_fact.order_payment_type':'order_payment_type'}, inplace=True)"
   ]
  },
  {
   "cell_type": "code",
   "execution_count": 40,
   "id": "24d2917f",
   "metadata": {},
   "outputs": [
    {
     "data": {
      "text/plain": [
       "COD        384484\n",
       "Prepaid    142556\n",
       "Name: order_payment_type, dtype: int64"
      ]
     },
     "execution_count": 40,
     "metadata": {},
     "output_type": "execute_result"
    }
   ],
   "source": [
    "df_copy.order_payment_type.value_counts()"
   ]
  },
  {
   "cell_type": "markdown",
   "id": "40db98f7",
   "metadata": {},
   "source": [
    "Clearly COD is preferred more than Prepaid order payment type."
   ]
  },
  {
   "cell_type": "markdown",
   "id": "30ba1e4c",
   "metadata": {},
   "source": [
    "6. pincode, custid"
   ]
  },
  {
   "cell_type": "code",
   "execution_count": 46,
   "id": "71105887",
   "metadata": {},
   "outputs": [],
   "source": [
    "#pincode and cust_id doesn't seem to be of any use\n",
    "df_copy.drop(['cust_id','pincode'], axis = 1, inplace = True)\n"
   ]
  },
  {
   "cell_type": "markdown",
   "id": "433eece0",
   "metadata": {},
   "source": [
    "7. product_mrp"
   ]
  },
  {
   "cell_type": "code",
   "execution_count": 48,
   "id": "d7abe751",
   "metadata": {},
   "outputs": [
    {
     "data": {
      "text/plain": [
       "3236"
      ]
     },
     "execution_count": 48,
     "metadata": {},
     "output_type": "execute_result"
    }
   ],
   "source": [
    "df_copy[(df_copy.product_mrp == 0)].value_counts().sum()"
   ]
  },
  {
   "cell_type": "code",
   "execution_count": 49,
   "id": "10ab6dcb",
   "metadata": {},
   "outputs": [],
   "source": [
    "#Removing values with 0 MRP, since that is not possible at all\n",
    "df_copy = df_copy.loc[~(df_copy.product_mrp==0)]"
   ]
  },
  {
   "cell_type": "code",
   "execution_count": 50,
   "id": "84996421",
   "metadata": {},
   "outputs": [],
   "source": [
    "df_copy['gmv_per_unit'] = df_copy.gmv/df_copy.units"
   ]
  },
  {
   "cell_type": "code",
   "execution_count": 51,
   "id": "d521eecc",
   "metadata": {},
   "outputs": [],
   "source": [
    "#Replacing the values of MRP with GMV per unit where the values of GMV/unit is greater than MRP\n",
    "df_copy['product_mrp'].loc[df_copy.gmv_per_unit>df_copy.product_mrp] = df_copy['gmv_per_unit']"
   ]
  },
  {
   "cell_type": "code",
   "execution_count": 52,
   "id": "a904b12a",
   "metadata": {},
   "outputs": [],
   "source": [
    "df_copy.drop(['gmv_per_unit'],1,inplace=True)"
   ]
  },
  {
   "cell_type": "markdown",
   "id": "2d3da372",
   "metadata": {},
   "source": [
    "8. sla and product_procurement_sla"
   ]
  },
  {
   "cell_type": "code",
   "execution_count": 53,
   "id": "4577119a",
   "metadata": {},
   "outputs": [
    {
     "data": {
      "text/plain": [
       "(523804, 15)"
      ]
     },
     "execution_count": 53,
     "metadata": {},
     "output_type": "execute_result"
    }
   ],
   "source": [
    "df_copy.shape"
   ]
  },
  {
   "cell_type": "code",
   "execution_count": 54,
   "id": "f467c82c",
   "metadata": {},
   "outputs": [
    {
     "data": {
      "text/plain": [
       "<Axes: ylabel='product_procurement_sla'>"
      ]
     },
     "execution_count": 54,
     "metadata": {},
     "output_type": "execute_result"
    },
    {
     "data": {
      "image/png": "[encoded data removed]",
      "text/plain": [
       "<Figure size 2000x800 with 2 Axes>"
      ]
     },
     "metadata": {},
     "output_type": "display_data"
    }
   ],
   "source": [
    "plt.figure(figsize=(20,8))\n",
    "\n",
    "plt.subplot(1,2,1)\n",
    "sns.boxplot(y=df_copy.sla, palette=(\"cubehelix\"))\n",
    "\n",
    "plt.subplot(1,2,2)\n",
    "sns.boxplot(y=df_copy.product_procurement_sla, palette=(\"cubehelix\"))"
   ]
  },
  {
   "cell_type": "markdown",
   "id": "f65f6806",
   "metadata": {},
   "source": [
    "<div class=\"alert alert-block alert-info\">\n",
    "We can see there are several outliers in columns sla or Service Level Agreement and product procurement sla which indicates instances of both procurement and delivery taking time."
   ]
  },
  {
   "cell_type": "code",
   "execution_count": 55,
   "id": "d7888f42",
   "metadata": {},
   "outputs": [
    {
     "data": {
      "text/plain": [
       "<Axes: xlabel='product_procurement_sla', ylabel='Density'>"
      ]
     },
     "execution_count": 55,
     "metadata": {},
     "output_type": "execute_result"
    },
    {
     "data": {
      "image/png": "[encoded data removed]",
      "text/plain": [
       "<Figure size 2000x800 with 2 Axes>"
      ]
     },
     "metadata": {},
     "output_type": "display_data"
    }
   ],
   "source": [
    "plt.figure(figsize=(20,8))\n",
    "\n",
    "plt.subplot(1,2,1)\n",
    "sns.distplot(df_copy.sla)\n",
    "\n",
    "plt.subplot(1,2,2)\n",
    "sns.distplot(df_copy.product_procurement_sla)"
   ]
  },
  {
   "cell_type": "markdown",
   "id": "1c535f9b",
   "metadata": {},
   "source": [
    "<div class=\"alert alert-block alert-info\">\n",
    "We can see that the sla is positively skewed bell curve whereas the product procurement sla is multimodal curve."
   ]
  },
  {
   "cell_type": "code",
   "execution_count": 56,
   "id": "35fdfc61",
   "metadata": {},
   "outputs": [
    {
     "data": {
      "text/plain": [
       "count    523804.000000\n",
       "mean          5.884676\n",
       "std           2.696911\n",
       "min           0.000000\n",
       "0%            0.000000\n",
       "25%           4.000000\n",
       "50%           6.000000\n",
       "75%           7.000000\n",
       "90%           9.000000\n",
       "95%          11.000000\n",
       "99%          14.000000\n",
       "100%         60.000000\n",
       "max          60.000000\n",
       "Name: sla, dtype: float64"
      ]
     },
     "execution_count": 56,
     "metadata": {},
     "output_type": "execute_result"
    }
   ],
   "source": [
    "df_copy.sla.describe(percentiles=[0.0,0.25,0.5,0.75,0.9,0.95,0.99,1.0])"
   ]
  },
  {
   "cell_type": "code",
   "execution_count": 57,
   "id": "13e7432e",
   "metadata": {},
   "outputs": [
    {
     "data": {
      "text/plain": [
       "count    523804.000000\n",
       "mean          2.559847\n",
       "std           1.714843\n",
       "min          -1.000000\n",
       "0%           -1.000000\n",
       "25%           2.000000\n",
       "50%           2.000000\n",
       "75%           3.000000\n",
       "90%           5.000000\n",
       "95%           5.000000\n",
       "99%           6.000000\n",
       "100%         15.000000\n",
       "max          15.000000\n",
       "Name: product_procurement_sla, dtype: float64"
      ]
     },
     "execution_count": 57,
     "metadata": {},
     "output_type": "execute_result"
    }
   ],
   "source": [
    "df_copy.product_procurement_sla.describe(percentiles=[0.0,0.25,0.5,0.75,0.9,0.95,0.99,1.0])"
   ]
  },
  {
   "cell_type": "code",
   "execution_count": 58,
   "id": "6e482f9d",
   "metadata": {},
   "outputs": [
    {
     "data": {
      "text/plain": [
       "10901"
      ]
     },
     "execution_count": 58,
     "metadata": {},
     "output_type": "execute_result"
    }
   ],
   "source": [
    "#Converting negative values to the positive\n",
    "len(df_copy.loc[df_copy.product_procurement_sla<0])"
   ]
  },
  {
   "cell_type": "code",
   "execution_count": 59,
   "id": "0cd6f87c",
   "metadata": {},
   "outputs": [],
   "source": [
    "df_copy.product_procurement_sla = abs(df_copy.product_procurement_sla)"
   ]
  },
  {
   "cell_type": "code",
   "execution_count": 60,
   "id": "3bdc913d",
   "metadata": {},
   "outputs": [
    {
     "data": {
      "text/plain": [
       "2.6969113975705605"
      ]
     },
     "execution_count": 60,
     "metadata": {},
     "output_type": "execute_result"
    }
   ],
   "source": [
    "df_copy.sla.std()"
   ]
  },
  {
   "cell_type": "code",
   "execution_count": 61,
   "id": "83e73cd7",
   "metadata": {},
   "outputs": [
    {
     "name": "stdout",
     "output_type": "stream",
     "text": [
      "13.975410522025701\n",
      "-2.206057863397664\n"
     ]
    }
   ],
   "source": [
    "#Taking three sigma values for outliers treatment\n",
    "print(df_copy.sla.mean()+(3*(df_copy.sla.std())))\n",
    "print(df_copy.sla.mean()-(3*(df_copy.sla.std())))"
   ]
  },
  {
   "cell_type": "code",
   "execution_count": 62,
   "id": "b5732184",
   "metadata": {},
   "outputs": [
    {
     "data": {
      "text/plain": [
       "1.6510180203178295"
      ]
     },
     "execution_count": 62,
     "metadata": {},
     "output_type": "execute_result"
    }
   ],
   "source": [
    "df_copy.product_procurement_sla.std()"
   ]
  },
  {
   "cell_type": "code",
   "execution_count": 63,
   "id": "427ac96b",
   "metadata": {},
   "outputs": [
    {
     "name": "stdout",
     "output_type": "stream",
     "text": [
      "7.554523312811053\n",
      "-2.3515848090959235\n"
     ]
    }
   ],
   "source": [
    "#Taking three sigma values for outliers treatment\n",
    "print(df_copy.product_procurement_sla.mean()+(3*(df_copy.product_procurement_sla.std())))\n",
    "print(df_copy.product_procurement_sla.mean()-(3*(df_copy.product_procurement_sla.std())))"
   ]
  },
  {
   "cell_type": "code",
   "execution_count": 64,
   "id": "5b150109",
   "metadata": {},
   "outputs": [
    {
     "data": {
      "text/plain": [
       "3382"
      ]
     },
     "execution_count": 64,
     "metadata": {},
     "output_type": "execute_result"
    }
   ],
   "source": [
    "# Capping the values at three sigma value\n",
    "len(df_copy[df_copy.sla > 14])"
   ]
  },
  {
   "cell_type": "code",
   "execution_count": 66,
   "id": "31b4d3c7",
   "metadata": {},
   "outputs": [],
   "source": [
    "# Let's cap the SLAs.\n",
    "df_copy.loc[df_copy.sla > 14,'sla'] = 14"
   ]
  },
  {
   "cell_type": "code",
   "execution_count": 67,
   "id": "ab384e67",
   "metadata": {},
   "outputs": [
    {
     "name": "stdout",
     "output_type": "stream",
     "text": [
      "3813\n"
     ]
    }
   ],
   "source": [
    "# Similarly, the min value of product procurement sla is 0 and the max value is 15. However, three sigma value is 7. \n",
    "print(len(df_copy[df_copy.product_procurement_sla > 7]))"
   ]
  },
  {
   "cell_type": "code",
   "execution_count": 68,
   "id": "3fcc84b7",
   "metadata": {},
   "outputs": [],
   "source": [
    "# Let's cap the product procurement SLAs.\n",
    "df_copy.loc[df_copy.product_procurement_sla > 7,'product_procurement_sla'] = 7"
   ]
  },
  {
   "cell_type": "code",
   "execution_count": 69,
   "id": "f14db83d",
   "metadata": {},
   "outputs": [
    {
     "data": {
      "text/plain": [
       "(523804, 15)"
      ]
     },
     "execution_count": 69,
     "metadata": {},
     "output_type": "execute_result"
    }
   ],
   "source": [
    "df_copy.shape"
   ]
  },
  {
   "cell_type": "code",
   "execution_count": 70,
   "id": "580765b3",
   "metadata": {},
   "outputs": [
    {
     "data": {
      "text/html": [
       "<div>\n",
       "<style scoped>\n",
       "    .dataframe tbody tr th:only-of-type {\n",
       "        vertical-align: middle;\n",
       "    }\n",
       "\n",
       "    .dataframe tbody tr th {\n",
       "        vertical-align: top;\n",
       "    }\n",
       "\n",
       "    .dataframe thead th {\n",
       "        text-align: right;\n",
       "    }\n",
       "</style>\n",
       "<table border=\"1\" class=\"dataframe\">\n",
       "  <thead>\n",
       "    <tr style=\"text-align: right;\">\n",
       "      <th></th>\n",
       "      <th>fsn_id</th>\n",
       "      <th>order_date</th>\n",
       "      <th>Year</th>\n",
       "      <th>Month</th>\n",
       "      <th>order_id</th>\n",
       "      <th>order_item_id</th>\n",
       "      <th>gmv</th>\n",
       "      <th>units</th>\n",
       "      <th>order_payment_type</th>\n",
       "      <th>sla</th>\n",
       "      <th>product_analytic_category</th>\n",
       "      <th>product_analytic_sub_category</th>\n",
       "      <th>product_analytic_vertical</th>\n",
       "      <th>product_mrp</th>\n",
       "      <th>product_procurement_sla</th>\n",
       "    </tr>\n",
       "  </thead>\n",
       "  <tbody>\n",
       "  </tbody>\n",
       "</table>\n",
       "</div>"
      ],
      "text/plain": [
       "Empty DataFrame\n",
       "Columns: [fsn_id, order_date, Year, Month, order_id, order_item_id, gmv, units, order_payment_type, sla, product_analytic_category, product_analytic_sub_category, product_analytic_vertical, product_mrp, product_procurement_sla]\n",
       "Index: []"
      ]
     },
     "execution_count": 70,
     "metadata": {},
     "output_type": "execute_result"
    }
   ],
   "source": [
    "df_copy.loc[df_copy.duplicated()]"
   ]
  },
  {
   "cell_type": "markdown",
   "id": "54ac188a",
   "metadata": {},
   "source": [
    "### <center> FEATURE ENGINEERING"
   ]
  },
  {
   "cell_type": "code",
   "execution_count": 72,
   "id": "32b45636",
   "metadata": {},
   "outputs": [],
   "source": [
    "#2. gmv (Gross Merchendising Value - The cost price at which the item is sold multiplied by number of units)\n",
    "\n",
    "# Let's derive listing price, which is nothing but gmv/units\n",
    "\n",
    "df_copy['listing_price'] = round((df_copy.gmv/df_copy.units),2)"
   ]
  },
  {
   "cell_type": "code",
   "execution_count": 74,
   "id": "296912dc",
   "metadata": {},
   "outputs": [
    {
     "data": {
      "text/plain": [
       "0"
      ]
     },
     "execution_count": 74,
     "metadata": {},
     "output_type": "execute_result"
    }
   ],
   "source": [
    "#Let's check if there are any rows with listing price > MRP\n",
    "\n",
    "len(df_copy.loc[df_copy.listing_price>df_copy.product_mrp])"
   ]
  },
  {
   "cell_type": "code",
   "execution_count": 75,
   "id": "1f55803b",
   "metadata": {},
   "outputs": [],
   "source": [
    "# Let's now calculate the discount %, which is nothing but (mrp-list price)/mrp\n",
    "df_copy['discount'] = round(((df_copy.product_mrp - df_copy.listing_price)/(df_copy.product_mrp)),2)"
   ]
  },
  {
   "cell_type": "code",
   "execution_count": 76,
   "id": "0b6feba4",
   "metadata": {},
   "outputs": [
    {
     "data": {
      "text/plain": [
       "count    523804.000000\n",
       "mean          0.450383\n",
       "std           0.243967\n",
       "min           0.000000\n",
       "25%           0.260000\n",
       "50%           0.460000\n",
       "75%           0.630000\n",
       "max           1.000000\n",
       "Name: discount, dtype: float64"
      ]
     },
     "execution_count": 76,
     "metadata": {},
     "output_type": "execute_result"
    }
   ],
   "source": [
    "df_copy['discount'].describe()"
   ]
  },
  {
   "cell_type": "code",
   "execution_count": 77,
   "id": "e31bdaf2",
   "metadata": {},
   "outputs": [],
   "source": [
    "# Total price\n",
    "df_copy['Order_Item_Value'] = df_copy['product_mrp'] * df_copy['units']"
   ]
  },
  {
   "cell_type": "code",
   "execution_count": 78,
   "id": "520fba3e",
   "metadata": {},
   "outputs": [],
   "source": [
    "# We can create the week number\n",
    "df_copy['week'] = np.where(df_copy.Year == 2015, (df_copy.order_date.dt.week - pd.to_datetime('2015-07-01').week + 1), df_copy.order_date.dt.week+27)\n",
    "\n",
    "# Dates like 2016-01-01 will be 53rd week as per ISO standard, hence the week value would be 53+27=80.\n",
    "# We can make those values as week 27\n",
    "df_copy.week.values[(df_copy.Year == 2016) & (df_copy.week == 80)] = 27"
   ]
  },
  {
   "cell_type": "code",
   "execution_count": 79,
   "id": "4a0cc4cb",
   "metadata": {},
   "outputs": [],
   "source": [
    "### Prepaid = '1' or COD = '0'\n",
    "df_copy['order_payment_type'] = np.where(df_copy['order_payment_type'] == \"Prepaid\",1,0)"
   ]
  },
  {
   "cell_type": "markdown",
   "id": "7163aef1",
   "metadata": {},
   "source": [
    "Seasonality and Trend related KPI¶"
   ]
  },
  {
   "cell_type": "code",
   "execution_count": 80,
   "id": "42725cfc",
   "metadata": {},
   "outputs": [],
   "source": [
    "### Creating Calendar for the period\n",
    "calendar = pd.DataFrame(pd.date_range('2015-07-01','2016-06-30').tolist(), columns = ['Date'])\n",
    "### Mapping week in the calendar\n",
    "calendar['week'] = calendar.Date.dt.week\n",
    "### Jan 2016 should be week 54 ,not week 1.\n",
    "calendar['week'] = np.where((calendar['week'] <= 26) & (calendar.Date.dt.year == 2016), calendar['week']+53, calendar['week'])"
   ]
  },
  {
   "cell_type": "code",
   "execution_count": 81,
   "id": "ad000401",
   "metadata": {},
   "outputs": [],
   "source": [
    "### Special Sales List\n",
    "\n",
    "special_sales_list = [\"2015-07-18\",\"2015-07-19\",\"2015-08-15\",\"2015-08-16\",\"2015-08-17\",\"2015-08-28\",\"2015-08-29\",\n",
    "                      \"2015-08-30\",\"2015-10-15\",\"2015-10-16\",\"2015-10-17\",\"2015-11-07\",\"2015-11-08\",\"2015-11-09\",\n",
    "                      \"2015-11-10\",\"2015-11-11\",\"2015-11-12\",\"2015-11-13\",\"2015-11-14\",\"2015-12-25\",\"2015-12-26\",\n",
    "                      \"2015-12-27\",\"2015-12-28\",\"2015-12-29\",\"2015-12-30\",\"2015-12-31\",\"2016-01-01\",\"2016-01-02\",\n",
    "                      \"2016-01-03\",\"2016-01-20\",\"2016-01-21\",\"2016-01-22\",\"2016-02-01\",\"2016-02-02\",\"2016-02-14\",\n",
    "                      \"2016-02-15\",\"2016-02-20\",\"2016-02-21\",\"2016-03-07\",\"2016-03-08\",\"2016-03-09\",\"2016-05-25\",\n",
    "                      \"2016-05-26\",\"2016-05-27\"]\n",
    "\n",
    "ss_list = pd.DataFrame(special_sales_list,columns = ['Date'])\n",
    "ss_list['Date'] = pd.to_datetime(ss_list['Date'])\n",
    "ss_list['Special_sales'] = True"
   ]
  },
  {
   "cell_type": "code",
   "execution_count": 82,
   "id": "b4d100a4",
   "metadata": {},
   "outputs": [],
   "source": [
    "calendar = calendar.merge(ss_list, 'left')\n",
    "calendar.fillna(False, inplace = True)"
   ]
  },
  {
   "cell_type": "code",
   "execution_count": 83,
   "id": "2454779b",
   "metadata": {},
   "outputs": [],
   "source": [
    "calendar['Special_sales'] = calendar['Special_sales'].astype(int)"
   ]
  },
  {
   "cell_type": "code",
   "execution_count": 84,
   "id": "f61db601",
   "metadata": {},
   "outputs": [
    {
     "data": {
      "text/html": [
       "<div>\n",
       "<style scoped>\n",
       "    .dataframe tbody tr th:only-of-type {\n",
       "        vertical-align: middle;\n",
       "    }\n",
       "\n",
       "    .dataframe tbody tr th {\n",
       "        vertical-align: top;\n",
       "    }\n",
       "\n",
       "    .dataframe thead th {\n",
       "        text-align: right;\n",
       "    }\n",
       "</style>\n",
       "<table border=\"1\" class=\"dataframe\">\n",
       "  <thead>\n",
       "    <tr style=\"text-align: right;\">\n",
       "      <th></th>\n",
       "      <th>Date</th>\n",
       "      <th>week</th>\n",
       "      <th>Special_sales</th>\n",
       "    </tr>\n",
       "  </thead>\n",
       "  <tbody>\n",
       "    <tr>\n",
       "      <th>0</th>\n",
       "      <td>2015-07-01</td>\n",
       "      <td>27</td>\n",
       "      <td>0</td>\n",
       "    </tr>\n",
       "    <tr>\n",
       "      <th>1</th>\n",
       "      <td>2015-07-02</td>\n",
       "      <td>27</td>\n",
       "      <td>0</td>\n",
       "    </tr>\n",
       "    <tr>\n",
       "      <th>2</th>\n",
       "      <td>2015-07-03</td>\n",
       "      <td>27</td>\n",
       "      <td>0</td>\n",
       "    </tr>\n",
       "    <tr>\n",
       "      <th>3</th>\n",
       "      <td>2015-07-04</td>\n",
       "      <td>27</td>\n",
       "      <td>0</td>\n",
       "    </tr>\n",
       "    <tr>\n",
       "      <th>4</th>\n",
       "      <td>2015-07-05</td>\n",
       "      <td>27</td>\n",
       "      <td>0</td>\n",
       "    </tr>\n",
       "  </tbody>\n",
       "</table>\n",
       "</div>"
      ],
      "text/plain": [
       "        Date  week  Special_sales\n",
       "0 2015-07-01    27              0\n",
       "1 2015-07-02    27              0\n",
       "2 2015-07-03    27              0\n",
       "3 2015-07-04    27              0\n",
       "4 2015-07-05    27              0"
      ]
     },
     "execution_count": 84,
     "metadata": {},
     "output_type": "execute_result"
    }
   ],
   "source": [
    "calendar.head()"
   ]
  },
  {
   "cell_type": "code",
   "execution_count": null,
   "id": "891efeae",
   "metadata": {},
   "outputs": [],
   "source": []
  }
 ],
 "metadata": {
  "kernelspec": {
   "display_name": "Python 3 (ipykernel)",
   "language": "python",
   "name": "python3"
  },
  "language_info": {
   "codemirror_mode": {
    "name": "ipython",
    "version": 3
   },
   "file_extension": ".py",
   "mimetype": "text/x-python",
   "name": "python",
   "nbconvert_exporter": "python",
   "pygments_lexer": "ipython3",
   "version": "3.10.9"
  }
 },
 "nbformat": 4,
 "nbformat_minor": 5
}
